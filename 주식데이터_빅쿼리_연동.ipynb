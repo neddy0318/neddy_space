{
  "nbformat": 4,
  "nbformat_minor": 0,
  "metadata": {
    "colab": {
      "provenance": [],
      "authorship_tag": "ABX9TyMsghZbBBQkBsfcVATiL2dv",
      "include_colab_link": true
    },
    "kernelspec": {
      "name": "python3",
      "display_name": "Python 3"
    },
    "language_info": {
      "name": "python"
    }
  },
  "cells": [
    {
      "cell_type": "markdown",
      "metadata": {
        "id": "view-in-github",
        "colab_type": "text"
      },
      "source": [
        "<a href=\"https://colab.research.google.com/github/neddy0318/neddy_space/blob/main/%EC%A3%BC%EC%8B%9D%EB%8D%B0%EC%9D%B4%ED%84%B0_%EB%B9%85%EC%BF%BC%EB%A6%AC_%EC%97%B0%EB%8F%99.ipynb\" target=\"_parent\"><img src=\"https://colab.research.google.com/assets/colab-badge.svg\" alt=\"Open In Colab\"/></a>"
      ]
    },
    {
      "cell_type": "code",
      "execution_count": null,
      "metadata": {
        "id": "Qn4Z7mxdJZDl"
      },
      "outputs": [],
      "source": [
        "!apt-get install google-cloud-sdk\n",
        "\n",
        "import yfinance as yf\n",
        "import pandas as pd\n",
        "import pandas_gbq\n",
        "import numpy as np\n",
        "from prophet import Prophet\n",
        "import matplotlib.pyplot as plt\n",
        "from datetime import datetime\n",
        "from sklearn.metrics import mean_absolute_error\n",
        "from sklearn.metrics import mean_squared_error\n",
        "import matplotlib.pyplot as plt\n",
        "from pandas.tseries.offsets import BDay #주식 예측 시평일만 카운트 해주기 위함\n",
        "from google.oauth2 import service_account\n",
        "from google.cloud import bigquery\n",
        "\n",
        "plt.style.use('fivethirtyeight')"
      ]
    },
    {
      "cell_type": "code",
      "source": [
        "# 최종 예측값 => 빅쿼리 연동\n",
        "\n",
        "#주가 예측& 빅쿼리 연동 함수\n",
        "def sendtogbq(corp_name):\n",
        "  current_datetime = datetime.now().strftime(\"%Y-%m-%d\")\n",
        "  start_year = datetime.now().year - 5          # 현재 년도 기준 몇년 전까지를 할 것인지 : 5년\n",
        "  start_datetime = datetime.now().replace(year=start_year)\n",
        "  start_date_str = start_datetime.strftime(\"%Y-%m-%d\")\n",
        "  corp = yf.download(corp_name, start=start_date_str, end=current_datetime) #입력 날짜 기준으로 주식 데이터 다운로드\n",
        "  corp['Name'] = str(corp_name)\n",
        "  corp.columns = ['Open','High','Low','Close','Adj_Close','Volume','Name'] ## Adj_Close값 잘 연동 되도록 열 이름 변경\n",
        "\n",
        "\n",
        "  corp['ds'] = pd.to_datetime(corp.index, format = '%Y-%m-%d')\n",
        "  corp['y'] = corp['Adj_Close']           ##조정 마감가를 y에 할당 ++ Adj_Close로 수정// 위에서 열 이름 변경했음\n",
        "  corp_train = corp[['ds', 'y']][:-251]\n",
        "\n",
        "  #모델 적합 및 파라미터 설정\n",
        "  model_prophet = Prophet(changepoint_prior_scale = 0.15, daily_seasonality = True, seasonality_mode='multiplicative', n_changepoints=100, seasonality_prior_scale=0.05)\n",
        "\n",
        "  #changepoint_prior_scale = 0.15, daily_seasonality = True : 예측력 더 낮으나 상한하한 범위 좁음\n",
        "\n",
        "  model_prophet.fit(corp)\n",
        "\n",
        "  #향후 1년간의 time stamp 생성\n",
        "  fcast_time_with_weekends = 365 #365일 예측\n",
        "  corp_forecast = model_prophet.make_future_dataframe(periods=fcast_time_with_weekends, freq='D')\n",
        "\n",
        "  # 주말을 제외한 날짜 범위 생성\n",
        "  corp_forecast['exclude_weekend'] = corp_forecast['ds'] + BDay(0)\n",
        "  corp_forecast = corp_forecast[corp_forecast['ds'].dt.weekday < 5]\n",
        "  corp_forecast = model_prophet.predict(corp_forecast)\n",
        "  model_prophet.plot(corp_forecast, xlabel = 'Date', ylabel= 'adj price($)')\n",
        "  plt.show()\n",
        "\n",
        "\n",
        "  #예측력 테스트\n",
        "  corp_test = corp[-251:]\n",
        "\n",
        "  future = corp_test[['ds']]  # 테스트 데이터의 날짜 칼럼을 그대로 사용하여 future 데이터프레임 생성\n",
        "  forecast = model_prophet.predict(future)\n",
        "\n",
        "  # 평가 : mae, mse, rmse\n",
        "  y_pred = forecast['yhat'].values\n",
        "  y_true = corp_test['y'].values\n",
        "  mae = mean_absolute_error(y_true, y_pred)\n",
        "  print('MAE: %.3f' % mae)\n",
        "  mse = mean_squared_error(y_true, y_pred)\n",
        "  print('MSE: %.3f' % mse)\n",
        "\n",
        "  rmse = np.sqrt(mse)\n",
        "  print('RMSE: %.3f' % rmse)\n",
        "\n",
        "  plt.plot(y_true, label='Actual')\n",
        "  plt.plot(y_pred, label='Predicted')\n",
        "  plt.title('Predictability Test')\n",
        "  plt.legend()\n",
        "  plt.show()\n",
        "\n",
        "\n",
        "  client = bigquery.Client()\n",
        "\n",
        "\n",
        "  # yfinance 데이터와 예측값 데이터 통합\n",
        "  corp_forecast = corp_forecast[['ds','yhat_lower', 'yhat_upper', 'yhat']]\n",
        "\n",
        "  corp_pred = pd.merge(corp,corp_forecast, on=['ds'], how = 'inner')\n",
        "  corp_pred = corp_pred.sort_values(by='ds')\n",
        "\n",
        "  table_id = 'strange-terra-415002.practical_project.' + corp_name          #corp_name따라 테이블 만들기\n",
        "  pandas_gbq.to_gbq(corp_pred, table_id, project_id='strange-terra-415002', if_exists='append') #project에 추가\n",
        "  #이미 데이터가 있을 경우 추가(실전 프로젝트 할 시에는 중복데이터 처리법을 몰랐었고, 태블로 연동시에 태블로에서는 중복 데이터를 알아서 필터링해줬었던 지라......일단 'append'로 설정했습니다)\n",
        "\n",
        "\n",
        "  #예측력 측정용 데이터 통합 및 빅쿼리 연동 : 위와 마찬가지로 필요한 부분만 수정\n",
        "  y_pred_df = pd.DataFrame(y_pred).rename(columns = {0 : \"pred\"})\n",
        "  y_true_df = pd.DataFrame(y_true).rename(columns = {0 : \"true\"})\n",
        "  combined_df = pd.concat([y_pred_df, y_true_df], axis=1)\n",
        "  table_id_2 = 'strange-terra-415002.practical_project.' + corp_name + '_predictability' #corp_name따라 예측력 테이블 만들기\n",
        "  pandas_gbq.to_gbq(combined_df, table_id_2, project_id='strange-terra-415002', if_exists='append') #project에 추가\n",
        "\n",
        "\n",
        "\n",
        "  #예측 전체 테이블 : 확인용\n",
        "  return corp_pred"
      ],
      "metadata": {
        "id": "C_xl_CpBNe7T"
      },
      "execution_count": null,
      "outputs": []
    },
    {
      "cell_type": "code",
      "source": [
        "#예시\n",
        "sendtogbq('MSFT')"
      ],
      "metadata": {
        "id": "C_JjbaejNkno"
      },
      "execution_count": null,
      "outputs": []
    }
  ]
}